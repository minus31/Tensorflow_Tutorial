{
 "cells": [
  {
   "cell_type": "markdown",
   "metadata": {},
   "source": [
    "# Deep learning Basic \n",
    "\n",
    "## Scenario\n",
    "\n",
    " - Dataset \n",
    " - Loading Dataset file \n",
    " - Building Model \n",
    " - Model Save & Restore\n",
    " - Tensorboard \n",
    " \n",
    "### Learning by implementation "
   ]
  },
  {
   "cell_type": "code",
   "execution_count": 1,
   "metadata": {},
   "outputs": [
    {
     "name": "stderr",
     "output_type": "stream",
     "text": [
      "/Users/MAC/.pyenv/versions/anaconda3-5.0.1/envs/python_ana/lib/python3.6/site-packages/h5py/__init__.py:36: FutureWarning: Conversion of the second argument of issubdtype from `float` to `np.floating` is deprecated. In future, it will be treated as `np.float64 == np.dtype(float).type`.\n",
      "  from ._conv import register_converters as _register_converters\n"
     ]
    }
   ],
   "source": [
    "import tensorflow as tf \n",
    "import numpy as np \n",
    "import matplotlib.pyplot as plt \n",
    "%matplotlib inline \n",
    "import csv"
   ]
  },
  {
   "cell_type": "code",
   "execution_count": 2,
   "metadata": {},
   "outputs": [
    {
     "name": "stdout",
     "output_type": "stream",
     "text": [
      "train data has been written\n",
      "test data has been written\n"
     ]
    }
   ],
   "source": [
    "samples = 1000 \n",
    "test_samples = 100 \n",
    "train_dataset = './ffnn_dataset/train_dataset.csv'\n",
    "test_dataset = './ffnn_dataset/test_dataset.csv'\n",
    "\n",
    "def write_dataset(samples, test_samples, train_dir, test_dir):\n",
    "    up = list(range(10))\n",
    "    down = list(range(9, -1, -1))\n",
    "    # up - 1 \n",
    "    # down - 0\n",
    "    data = []\n",
    "    label = []\n",
    "    # 10 차원의 벡터를 sample수 만큼 데이터 셋에 담고, \n",
    "    # 10 차원 벡터의 target을 스칼라 1, 0으로 만들어 준다. \n",
    "    for i in range(samples):\n",
    "        data.append(up)\n",
    "        data.append(down)\n",
    "        label.append([1])\n",
    "        label.append([0])\n",
    "    \n",
    "    # samples 에서 test_samples의 개수를 뺀 만큼을 Train,\n",
    "    # test_samples의 개수 만큼을 Test\n",
    "    with open(train_dataset, 'w') as csvfile:\n",
    "        writer = csv.writer(csvfile)\n",
    "        for i in range(samples - test_samples):\n",
    "            writer.writerow(label[i] + data[i])\n",
    "        print('train data has been written')\n",
    "\n",
    "    with open(test_dataset, 'w') as csvfile:\n",
    "        writer = csv.writer(csvfile)\n",
    "        for i in range(test_samples):\n",
    "            writer.writerow(label[i] + data[i])\n",
    "        print('test data has been written')\n",
    "        \n",
    "write_dataset(samples, test_samples, train_dataset, test_dataset)"
   ]
  },
  {
   "cell_type": "code",
   "execution_count": 4,
   "metadata": {},
   "outputs": [
    {
     "name": "stdout",
     "output_type": "stream",
     "text": [
      "Tensor(\"Cast:0\", shape=(?, 1), dtype=float32)\n",
      "Tensor(\"Cast_1:0\", shape=(?, 10), dtype=float32)\n",
      "Tensor(\"Cast_2:0\", shape=(?, 1), dtype=float32)\n",
      "Tensor(\"Cast_3:0\", shape=(?, 10), dtype=float32)\n",
      "############### Datasets prepared ###############\n",
      "reuse : False\n",
      "layer1 shape (?, 10)\n",
      "layer2 shape (?, 5)\n",
      "output shape (?, 1)\n",
      "\n",
      "\n",
      "reuse : True\n",
      "layer1 shape (?, 10)\n",
      "layer2 shape (?, 5)\n",
      "output shape (?, 1)\n",
      "\n",
      "\n",
      "epoch: 0, loss : 0.7561835050582886, acc : 0.0\n",
      "epoch: 100, loss : 0.6722434759140015, acc : 0.5\n",
      "epoch: 200, loss : 0.5977892279624939, acc : 0.7074999809265137\n",
      "epoch: 300, loss : 0.5777143836021423, acc : 0.8050000071525574\n",
      "epoch: 400, loss : 0.5666851997375488, acc : 0.8537499904632568\n",
      "epoch: 500, loss : 0.5568826198577881, acc : 0.8830000162124634\n",
      "epoch: 600, loss : 0.5485398173332214, acc : 0.9024999737739563\n",
      "epoch: 700, loss : 0.5416406393051147, acc : 0.9164285659790039\n",
      "epoch: 800, loss : 0.5359908938407898, acc : 0.9268749952316284\n",
      "epoch: 900, loss : 0.5313858389854431, acc : 0.9350000023841858\n",
      "accuracy : (0.9414414, 0.9415)\n"
     ]
    },
    {
     "data": {
      "image/png": "[encoded data removed]",
      "text/plain": [
       "<matplotlib.figure.Figure at 0x1c1f19e470>"
      ]
     },
     "metadata": {},
     "output_type": "display_data"
    }
   ],
   "source": [
    "# tensorflow로 개발 하다보면, 이전에 실행했던 그래프가 남아 에러를 낼 때가 있다 \n",
    "# 자주 graph를 reset해주도록 한다. \n",
    "tf.reset_default_graph()\n",
    "\n",
    "trainset = tf.data.TextLineDataset(train_dataset).batch(batch_size=10).shuffle(777)\n",
    "testset = tf.data.TextLineDataset(test_dataset).batch(batch_size=10).shuffle(777)\n",
    "# # 아래와 같이 Dataset을 늘릴 수도 있다. \n",
    "trainset = trainset.repeat(100)\n",
    "testset = testset.repeat(100)\n",
    "\n",
    "# create iterator\n",
    "train_itr = trainset.make_one_shot_iterator()\n",
    "test_itr = testset.make_one_shot_iterator()\n",
    "\n",
    "train_batch = train_itr.get_next()# iterator가 실행 되면, 다음 것을 가져온다. \n",
    "test_batch = test_itr.get_next()\n",
    "# --> 여기 까지 데이터를 받아오면, 스트링 형태이다 .\n",
    "\n",
    "train_batch = tf.decode_csv(train_batch, record_defaults=[[0]]*11)\n",
    "# record_defaluts (리스트로 받는다.)- csv는 정형데이터이다. \n",
    "# 따라서, 미싱데이터에 대체 할 defalut 값을 요구한다.  \n",
    "test_batch = tf.decode_csv(test_batch, [[0]]*11)\n",
    "\n",
    "# 랭크를 맞춰주기 위해서 아래와 같이 차원을 조정한다. \n",
    "train_label = tf.reshape(train_batch[0], [-1, 1])\n",
    "test_label = tf.reshape(test_batch[0], [-1, 1])\n",
    "\n",
    "# ## Or\n",
    "# label = tf.expand_dims(train_batch[0], axis=-1)\n",
    "\n",
    "# stack 하는 과정에서 axis를 주의하길 바란다. \n",
    "train_feature = tf.stack(train_batch[1:], axis=1)\n",
    "test_feature = tf.stack(test_batch[1:], axis=1)\n",
    "\n",
    "# casting 을 해주어야 한다.  dtype 을 float 로 \n",
    "train_label = tf.cast(train_label, tf.float32)\n",
    "train_feature = tf.cast(train_feature, tf.float32)\n",
    "test_label = tf.cast(test_label, tf.float32)\n",
    "test_feature = tf.cast(test_feature, tf.float32)\n",
    "\n",
    "print(train_label)\n",
    "print(train_feature)\n",
    "print(test_label)\n",
    "print(test_feature)\n",
    "print(\"#\"*15 + \" Datasets prepared \" + \"#\"*15)\n",
    "\n",
    "############ Modeling \n",
    "def binary_model(feature, activation, reuse=False):\n",
    "    # densenet을 쌓아보자\n",
    "    layer1 = tf.layers.dense(feature, units=10, \n",
    "                             activation=activation,\n",
    "                             reuse=reuse, name='layer1')\n",
    "    layer2 = tf.layers.dense(layer1, units=5, \n",
    "                             activation=activation,\n",
    "                             reuse=reuse, name='layer2')\n",
    "    ## output layer에서 actiavation func은 없다. \n",
    "    ##(cross entropyloss에서 자동을 씌워준다.)\n",
    "    output = tf.layers.dense(layer2, units=1, \n",
    "                             reuse=reuse, name='output')\n",
    "    \n",
    "    # Debugging 을 위해서 프린트를 해보겠다. \n",
    "    print('reuse : {}'.format(reuse))\n",
    "    print('layer1 shape {}'.format(layer1.shape))\n",
    "    print('layer2 shape {}'.format(layer2.shape))\n",
    "    print('output shape {}'.format(output.shape))    \n",
    "    print(\"\\n\")\n",
    "    \n",
    "    return output \n",
    "\n",
    "train_label_predicted = tf.nn.sigmoid(binary_model(train_feature, \n",
    "                                                   activation=tf.nn.relu))\n",
    "\n",
    "test_label_predicted = tf.nn.sigmoid(binary_model(test_feature, \n",
    "                                                  activation=tf.nn.relu, reuse=True))\n",
    "            #- reuse를 함으로써 train에서 만든 가중치들을 share할 수 있다.\n",
    "# test를 예측한 결과는 0 또는 1만 답이 되도록 한다. (확률처럼 출력할 수도 있음)\n",
    "test_label_predicted = tf.round(test_label_predicted)\n",
    "\n",
    "accuracy = tf.metrics.accuracy(test_label, test_label_predicted)\n",
    "\n",
    "loss = tf.losses.sigmoid_cross_entropy(train_label, train_label_predicted)\n",
    "\n",
    "# summary 객체를 생성 \\\n",
    "summary = tf.summary.scalar('loss', loss)\n",
    "merged = tf.summary.merge_all()\n",
    "\n",
    "train_op = tf.train.GradientDescentOptimizer(1e-3).minimize(loss)\n",
    "\n",
    "# model을 저장 하기 위한 객체 생성 \n",
    "saver = tf.train.Saver()\n",
    "\n",
    "########## Run \n",
    "\n",
    "with tf.Session() as sess :\n",
    "    sess.run(tf.global_variables_initializer())\n",
    "    sess.run(tf.local_variables_initializer())# for getting Accuracy (이동평균으로 구하기 때문)\n",
    "    writer = tf.summary.FileWriter('ffnn_dataset/', sess.graph)\n",
    "    \n",
    "    loss_graph = []\n",
    "    for i in range(1000): # 1000epochs 실행 해보자 \n",
    "        \n",
    "        _, _loss, _acc, _summ = sess.run([train_op, loss, accuracy, merged])\n",
    "        loss_graph.append(_loss)\n",
    "        writer.add_summary(_summ, i)\n",
    "\n",
    "        if i % 100 == 0:\n",
    "            print(\"epoch: {}, loss : {}, acc : {}\".format(i, _loss, _acc[0]))\n",
    "\n",
    "    plt.ylim(0, 3)\n",
    "#     plt.scatter(np.linspace(0, 100, num=len(loss_graph)), loss_graph, 100, 'g')\n",
    "    plt.plot(loss_graph)\n",
    "    print('accuracy : {}'.format(_acc))# [한스텝 전의 accuracy, 한스텝 후의 accuracy]\n",
    "    saver.save(sess, 'ffnn_dataset/ffnn')"
   ]
  },
  {
   "cell_type": "code",
   "execution_count": 6,
   "metadata": {},
   "outputs": [
    {
     "name": "stdout",
     "output_type": "stream",
     "text": [
      "INFO:tensorflow:Restoring parameters from ffnn_dataset/ffnn\n",
      "pred:1.0, truth:1.0\n",
      "pred:0.0, truth:0.0\n",
      "pred:1.0, truth:1.0\n",
      "pred:0.0, truth:0.0\n",
      "pred:1.0, truth:1.0\n",
      "pred:0.0, truth:0.0\n",
      "pred:1.0, truth:1.0\n",
      "pred:0.0, truth:0.0\n",
      "pred:1.0, truth:1.0\n",
      "pred:0.0, truth:0.0\n"
     ]
    }
   ],
   "source": [
    "### Model load and predict \n",
    "\n",
    "with tf.Session() as sess :\n",
    "    saver.restore(sess, 'ffnn_dataset/ffnn')\n",
    "    _pred, _truth = sess.run([test_label_predicted, test_label])\n",
    "    for l, z in zip(_pred, _truth):\n",
    "        if l[0] != z[0]:\n",
    "            print(\"wrong\")\n",
    "        print(\"pred:{}, truth:{}\".format(l[0], z[0]))"
   ]
  },
  {
   "cell_type": "code",
   "execution_count": null,
   "metadata": {},
   "outputs": [],
   "source": []
  }
 ],
 "metadata": {
  "kernelspec": {
   "display_name": "Python 3",
   "language": "python",
   "name": "python3"
  },
  "language_info": {
   "codemirror_mode": {
    "name": "ipython",
    "version": 3
   },
   "file_extension": ".py",
   "mimetype": "text/x-python",
   "name": "python",
   "nbconvert_exporter": "python",
   "pygments_lexer": "ipython3",
   "version": "3.6.4"
  },
  "latex_envs": {
   "LaTeX_envs_menu_present": true,
   "autoclose": false,
   "autocomplete": true,
   "bibliofile": "biblio.bib",
   "cite_by": "apalike",
   "current_citInitial": 1,
   "eqLabelWithNumbers": true,
   "eqNumInitial": 1,
   "hotkeys": {
    "equation": "Ctrl-E",
    "itemize": "Ctrl-I"
   },
   "labels_anchors": false,
   "latex_user_defs": false,
   "report_style_numbering": false,
   "user_envs_cfg": false
  },
  "toc": {
   "base_numbering": 1,
   "nav_menu": {},
   "number_sections": true,
   "sideBar": true,
   "skip_h1_title": false,
   "title_cell": "Table of Contents",
   "title_sidebar": "Contents",
   "toc_cell": false,
   "toc_position": {},
   "toc_section_display": true,
   "toc_window_display": false
  }
 },
 "nbformat": 4,
 "nbformat_minor": 2
}
