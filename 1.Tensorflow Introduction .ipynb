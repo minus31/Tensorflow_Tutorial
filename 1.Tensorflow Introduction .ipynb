{
 "cells": [
  {
   "cell_type": "markdown",
   "metadata": {},
   "source": [
    "### Tensorflow looks like below \n",
    "\n"
   ]
  },
  {
   "cell_type": "code",
   "execution_count": 5,
   "metadata": {
    "ExecuteTime": {
     "end_time": "2018-06-05T05:14:46.535691Z",
     "start_time": "2018-06-05T05:14:46.521127Z"
    }
   },
   "outputs": [
    {
     "name": "stdout",
     "output_type": "stream",
     "text": [
      "b'hello world, hello tensorflow'\n"
     ]
    }
   ],
   "source": [
    "import tensorflow as tf \n",
    "# constant \n",
    "const = tf.constant('hello world, hello tensorflow')\n",
    "\n",
    "with tf.Session() as sess :\n",
    "    _const = sess.run(const)\n",
    "    print(_const)"
   ]
  },
  {
   "cell_type": "markdown",
   "metadata": {},
   "source": [
    "### Advantages \n",
    "\n",
    " * GPU 사용 \n",
    " * 쉬운 분산 처리 \n",
    " * 개발을 도와주는 여러가지 Wrapper \n",
    " * 유연한 개발환경 $\\rightarrow $ Mobile, backend, cloud(GCP), RaspberryPi등으로 포팅가능, \n",
    " * 배포가 쉬움\n",
    " * Google Cloud Platform과의 연계성 (ML Machine)\n",
    " \n",
    " \n",
    "### Basic \n",
    "\n",
    " * Define and Run 방식 (compile(build) and execute)\n",
    "    > (내부적으로) `Graph`로 **Define** \n",
    "    > , `Session`으로 **Run**\n",
    "    \n",
    " * tensors \n",
    "     - constant \n",
    "     - placeholder \n",
    "     - Variable \n",
    "     - etc... "
   ]
  },
  {
   "cell_type": "code",
   "execution_count": 6,
   "metadata": {
    "ExecuteTime": {
     "end_time": "2018-06-05T05:20:09.299509Z",
     "start_time": "2018-06-05T05:20:09.287351Z"
    }
   },
   "outputs": [
    {
     "name": "stdout",
     "output_type": "stream",
     "text": [
      "b'hello world, hello tensorflow'\n"
     ]
    }
   ],
   "source": [
    "# Define \n",
    "const = tf.constant('hello world, hello tensorflow')\n",
    "# Run\n",
    "with tf.Session() as sess :\n",
    "    _const = sess.run(const)\n",
    "    print(_const)"
   ]
  },
  {
   "cell_type": "markdown",
   "metadata": {},
   "source": [
    "### Graph & Session\n",
    "\n",
    " - Graph로 연산을 수행한다.\n",
    "     - Define 된 모든 Tensor, operator \n",
    "     - 연산 구조를 각 Tensor, Operator 가 Node로 이루어진 Graph로 정의 \n",
    "     - Session으로 실행 (run)\n",
    "     \n",
    " - Defined 된 Graph의 연산을 수행\n",
    "     - CPU, GPU 선택적으로 연산 수행 가능\n",
    "     \n",
    " #### Tensors"
   ]
  },
  {
   "cell_type": "code",
   "execution_count": 14,
   "metadata": {
    "ExecuteTime": {
     "end_time": "2018-06-05T05:31:51.959852Z",
     "start_time": "2018-06-05T05:31:51.930458Z"
    }
   },
   "outputs": [
    {
     "name": "stdout",
     "output_type": "stream",
     "text": [
      "Tensor(\"Const_13:0\", shape=(), dtype=string)\n",
      "Tensor(\"Const_14:0\", shape=(), dtype=int32)\n",
      "Tensor(\"Const_15:0\", shape=(), dtype=float32)\n",
      "b'hello'\n",
      "10\n",
      "3.14\n",
      "Const_13:0\n",
      "()\n",
      "<dtype: 'float32'>\n"
     ]
    }
   ],
   "source": [
    "# Define tensors\n",
    "tf_str = tf.constant('hello')\n",
    "tf_int = tf.constant(10)\n",
    "tf_float = tf.constant(3.14)\n",
    "print(tf_str)\n",
    "print(tf_int)\n",
    "print(tf_float)\n",
    "\n",
    "# Run them\n",
    "with tf.Session() as sess :\n",
    "    _tf_str = sess.run(tf_str)\n",
    "    _tf_int = sess.run(tf_int)\n",
    "    _tf_float = sess.run(tf_float)\n",
    "    print(_tf_str)\n",
    "    print(_tf_int)\n",
    "    print(_tf_float)\n",
    "\n",
    "# objects` method \n",
    "print(tf_str.name)\n",
    "print(tf_int.shape)\n",
    "print(tf_float.dtype)"
   ]
  },
  {
   "cell_type": "markdown",
   "metadata": {},
   "source": [
    "#### Operators "
   ]
  },
  {
   "cell_type": "code",
   "execution_count": 17,
   "metadata": {
    "ExecuteTime": {
     "end_time": "2018-06-05T05:47:45.297510Z",
     "start_time": "2018-06-05T05:47:45.278395Z"
    }
   },
   "outputs": [
    {
     "name": "stdout",
     "output_type": "stream",
     "text": [
      "Tensor(\"MatMul_1:0\", shape=(1, 1), dtype=int32)\n",
      "------------------------------\n",
      "[[6]]\n"
     ]
    }
   ],
   "source": [
    "ones = tf.constant([[1, 1, 1]])\n",
    "twos = tf.constant([[2], [2], [2]])\n",
    "# inner product\n",
    "matmul = tf.matmul(ones, twos)\n",
    "print(matmul)\n",
    "print(\"-\" * 30 )\n",
    "with tf.Session() as sess :\n",
    "    print(sess.run(matmul))"
   ]
  },
  {
   "cell_type": "code",
   "execution_count": 18,
   "metadata": {
    "ExecuteTime": {
     "end_time": "2018-06-05T05:48:19.527857Z",
     "start_time": "2018-06-05T05:48:19.495101Z"
    }
   },
   "outputs": [
    {
     "name": "stdout",
     "output_type": "stream",
     "text": [
      "Tensor(\"MatMul_2:0\", shape=(1, 1), dtype=int32)\n",
      "Tensor(\"MatMul_3:0\", shape=(3, 1), dtype=int32)\n"
     ]
    },
    {
     "data": {
      "text/plain": [
       "(TensorShape([Dimension(1), Dimension(3)]),\n",
       " TensorShape([Dimension(3), Dimension(1)]),\n",
       " TensorShape([Dimension(3), Dimension(3)]))"
      ]
     },
     "execution_count": 18,
     "metadata": {},
     "output_type": "execute_result"
    }
   ],
   "source": [
    "one = tf.constant([[1,1,1]])\n",
    "two = tf.constant([[2],[2],[2]])\n",
    "nine = tf.constant([[1, 2, 3], [4, 5, 6], [7, 8, 9]])\n",
    "matmul = tf.matmul(one, two)\n",
    "print(matmul)\n",
    "\n",
    "matmul_2 = tf.matmul(nine, two)\n",
    "print(matmul_2)\n",
    "one.shape, two.shape, nine.shape"
   ]
  },
  {
   "cell_type": "markdown",
   "metadata": {},
   "source": [
    "### Tensors \n",
    "\n",
    "##### constant - static values \n",
    "        \n",
    "##### placeholder\n",
    "    - tensor이지만, Session 에서 mapping 을 해주기 때문에 값은 안 들어가있다. \n",
    "    - 데이터를 변화시키며, Session에 넣으려면, 이렇게 해야한다.(iterator 같은 느낌 ) "
   ]
  },
  {
   "cell_type": "code",
   "execution_count": null,
   "metadata": {},
   "outputs": [],
   "source": [
    "data = [1, 2, 3, 4, 5]\n",
    "pl_data = tf.placeholder(tf.float32)\n",
    "\n",
    "with tf.Session() as sess:\n",
    "    print(sess.run(pl_data, {pl_data: data}))# run시점을 정해주는 것 (patch)\n",
    "                             # 이부분, Feeding, turneling  "
   ]
  },
  {
   "cell_type": "markdown",
   "metadata": {},
   "source": [
    "##### Variable \n",
    " - constant는 컴퓨터가 바꿀 수 없는 값, 고정된 값 \n",
    " - Variable은 initializing 해주어야 한다.\n",
    " - ** machine learning 에서 weight를 저장 하는 것 **"
   ]
  },
  {
   "cell_type": "code",
   "execution_count": 23,
   "metadata": {
    "ExecuteTime": {
     "end_time": "2018-06-05T05:57:44.082968Z",
     "start_time": "2018-06-05T05:57:44.043006Z"
    }
   },
   "outputs": [
    {
     "name": "stdout",
     "output_type": "stream",
     "text": [
      "10\n",
      "20\n"
     ]
    }
   ],
   "source": [
    "var = tf.Variable(10)\n",
    "\n",
    "with tf.Session() as sess : \n",
    "    sess.run(tf.global_variables_initializer())\n",
    "    print(sess.run(var))\n",
    "    var = var * 2\n",
    "    print(sess.run(var))"
   ]
  },
  {
   "cell_type": "code",
   "execution_count": 25,
   "metadata": {
    "ExecuteTime": {
     "end_time": "2018-06-05T09:38:27.235224Z",
     "start_time": "2018-06-05T09:38:27.193613Z"
    }
   },
   "outputs": [
    {
     "name": "stdout",
     "output_type": "stream",
     "text": [
      "[12.]\n",
      "[30.]\n",
      "[48.]\n"
     ]
    }
   ],
   "source": [
    "two = tf.constant([[2],[2],[2]])\n",
    "nine = tf.constant([[1, 2, 3], [4, 5, 6], [7, 8, 9]])\n",
    "var = tf.Variable(10)\n",
    "\n",
    "pl_data_for_sumation = tf.placeholder(tf.float32)\n",
    "\n",
    "with tf.Session() as sess : \n",
    "    _two = sess.run(two)\n",
    "    _nine = sess.run(nine)\n",
    "    matmul = sess.run(tf.matmul(_nine, _two))\n",
    "    data = sess.run(pl_data_for_sumation, {pl_data_for_sumation : matmul})\n",
    "    # 'data' becomes iterable object \n",
    "    for d in data:\n",
    "        print(d)\n"
   ]
  },
  {
   "cell_type": "markdown",
   "metadata": {},
   "source": [
    "### Experiment\n",
    "* Flow\n",
    " > - generating Data \n",
    " > - Buliding Model \n",
    " > - Training Model \n",
    " > - Implementation \n",
    "\n",
    "1. Linear Regression\n",
    "2. Logistic Regression \n",
    "\n",
    "\n",
    "###### Linear Regression"
   ]
  },
  {
   "cell_type": "code",
   "execution_count": 26,
   "metadata": {
    "ExecuteTime": {
     "end_time": "2018-06-05T09:41:42.333807Z",
     "start_time": "2018-06-05T09:41:40.018629Z"
    }
   },
   "outputs": [],
   "source": [
    "import tensorflow as tf \n",
    "import numpy as np \n",
    "import matplotlib.pyplot as plt \n",
    "%matplotlib inline "
   ]
  },
  {
   "cell_type": "code",
   "execution_count": 43,
   "metadata": {
    "ExecuteTime": {
     "end_time": "2018-06-05T10:13:02.443155Z",
     "start_time": "2018-06-05T10:13:02.253399Z"
    }
   },
   "outputs": [
    {
     "data": {
      "text/plain": [
       "<matplotlib.collections.PathCollection at 0x1163517f0>"
      ]
     },
     "execution_count": 43,
     "metadata": {},
     "output_type": "execute_result"
    },
    {
     "data": {
      "image/png": "[encoded data removed]",
      "text/plain": [
       "<Figure size 504x288 with 1 Axes>"
      ]
     },
     "metadata": {},
     "output_type": "display_data"
    }
   ],
   "source": [
    "sample = 1000\n",
    "data = np.array([1e-3 * float(i) for i in range(sample)]) # 데이터 \n",
    "label = 3.7 * data + 1.7 + np.random.randn(sample)# <- 오차 ; 실제 데이터 \n",
    "target = 3.7 * data+ 1.7 # ; 최종적으로 3.7, 1.7에 각각 수렴해야 함을 명시 \n",
    "\n",
    "plt.figure(11, figsize=(7, 4))\n",
    "plt.ylim(-2, 10)\n",
    "plt.scatter(data, target, 1, \"b\")\n",
    "plt.scatter(data, label, 1, 'g')\n",
    "# plt.figure(21, figsize=(7, 4))\n",
    "# plt.ylim(-2, 10)\n",
    "# plt.scatter(data, target, 1, \"b\")"
   ]
  },
  {
   "cell_type": "code",
   "execution_count": 65,
   "metadata": {
    "ExecuteTime": {
     "end_time": "2018-06-05T15:16:40.307031Z",
     "start_time": "2018-06-05T15:16:38.596312Z"
    }
   },
   "outputs": [
    {
     "name": "stdout",
     "output_type": "stream",
     "text": [
      "step : 0, loss : 5.780746936798096\n",
      "step : 10, loss : 3.940840482711792\n",
      "step : 20, loss : 2.83701753616333\n",
      "step : 30, loss : 2.1737964153289795\n",
      "step : 40, loss : 1.774335503578186\n",
      "step : 50, loss : 1.5327959060668945\n",
      "step : 60, loss : 1.385833740234375\n",
      "step : 70, loss : 1.2955366373062134\n",
      "step : 80, loss : 1.2392135858535767\n",
      "step : 90, loss : 1.2032829523086548\n"
     ]
    },
    {
     "data": {
      "image/png": "[encoded data removed]",
      "text/plain": [
       "<Figure size 864x648 with 1 Axes>"
      ]
     },
     "metadata": {},
     "output_type": "display_data"
    },
    {
     "data": {
      "image/png": "[encoded data removed]",
      "text/plain": [
       "<Figure size 864x648 with 1 Axes>"
      ]
     },
     "metadata": {},
     "output_type": "display_data"
    }
   ],
   "source": [
    "# feature와 label(truth)의 placeholder \n",
    "x = tf.placeholder(tf.float32)\n",
    "y_ = tf.placeholder(tf.float32) # 진짜 y값 \n",
    "\n",
    "w = tf.Variable(1.0) # Weight\n",
    "b = tf.Variable(1.0) # bias which follows the Gaussian distribution ; w_0\n",
    "\n",
    "y = w * x + b # Model 의 예측 값 \n",
    "\n",
    "# loss function 정의 ; 간단하게 MSE\n",
    "loss = tf.losses.mean_squared_error(y_, y)\n",
    "\n",
    "# Optimizer 정의 \n",
    "train_optimizer = tf.train.GradientDescentOptimizer(learning_rate=1e-2).minimize(loss)\n",
    "\n",
    "\n",
    "# Session으로 Run \n",
    "with tf.Session() as sess : \n",
    "    # initializing variables\n",
    "    sess.run(tf.global_variables_initializer())\n",
    "    # 실제 label 값들 \n",
    "    plt.figure(figsize=(12, 9))\n",
    "    plt.scatter(data, label, 1, 'r')\n",
    "    loses = [] # 로스를 시각하기 위해서 \n",
    "    \n",
    "    for i in range(100): # 100번 만 가중치를 업데이트 해보자 \n",
    "        _, _loss = sess.run([train_optimizer, loss], feed_dict={x: data, y_ : label})\n",
    "        loses.append(_loss)\n",
    "        if i % 10 == 0: # 10 step 단위로 기록 \n",
    "        \n",
    "            print('step : {}, loss : {}'.format(i, _loss))\n",
    "            \n",
    "    _pred = sess.run(y, {x : data})# data로 예측한 결과값 \n",
    "    \n",
    "    plt.scatter(data, _pred, 1, 'g') # 결과 모델의 선 \n",
    "    plt.scatter(data, target, 1, 'b')# 기준 선 \n",
    "    plt.legend([u'data', u\"model\", u\"target\"], loc=0)\n",
    "\n",
    "    plt.figure(figsize=(12, 9))\n",
    "    plt.title(\"Loss\")\n",
    "    plt.plot(loses)\n",
    "    plt.show()"
   ]
  },
  {
   "cell_type": "markdown",
   "metadata": {},
   "source": [
    "###### Logistic Regression \n",
    "\n",
    "- Model \n",
    "\n",
    "> $ y = \\dfrac{1}{1 + \\exp^{-(wx + b)}} $\n",
    "\n",
    "- Loss function \n",
    "\n",
    "> $ L(y^\\prime, y) = \\dfrac{1}{m}\\sum_{n=1}^{m}-y^\\prime \\log y - (1 - y^\\prime) \\log (1-y) \\leftarrow Cross entropy$\n",
    "\n"
   ]
  },
  {
   "cell_type": "code",
   "execution_count": 71,
   "metadata": {
    "ExecuteTime": {
     "end_time": "2018-06-05T15:26:01.273329Z",
     "start_time": "2018-06-05T15:26:01.123360Z"
    }
   },
   "outputs": [
    {
     "data": {
      "image/png": "[encoded data removed]",
      "text/plain": [
       "<Figure size 432x288 with 1 Axes>"
      ]
     },
     "metadata": {},
     "output_type": "display_data"
    }
   ],
   "source": [
    "samples = 500\n",
    "data = [float(i)*0.01 for i in range(-samples, samples)]\n",
    "label = [1 if i>0.5 else 0 for i in data]\n",
    "\n",
    "plt.plot(label)\n",
    "plt.title(\"Virtual Data\")\n",
    "plt.show()"
   ]
  },
  {
   "cell_type": "code",
   "execution_count": 77,
   "metadata": {
    "ExecuteTime": {
     "end_time": "2018-06-05T15:30:53.184518Z",
     "start_time": "2018-06-05T15:30:52.729273Z"
    }
   },
   "outputs": [],
   "source": [
    "x = tf.placeholder(tf.float32)\n",
    "y_ = tf.placeholder(tf.float32)\n",
    "\n",
    "a = tf.Variable(0.3)\n",
    "b = tf.Variable(0.3)\n",
    "y = a*x + b\n",
    "\n",
    "# Loss func - loss func에서 y 에 시그모이드(로지스틱 함수)를 씌워준다. \n",
    "loss = tf.losses.sigmoid_cross_entropy(y_, y)\n",
    "\n",
    "# Optimizer\n",
    "train_optimizer = tf.train.GradientDescentOptimizer(1e-2).minimize(loss)"
   ]
  },
  {
   "cell_type": "code",
   "execution_count": 78,
   "metadata": {
    "ExecuteTime": {
     "end_time": "2018-06-05T15:30:59.131392Z",
     "start_time": "2018-06-05T15:30:53.970899Z"
    }
   },
   "outputs": [
    {
     "name": "stdout",
     "output_type": "stream",
     "text": [
      "step : 0, loss : 0.4356596767902374, a : 0.3068247139453888, b : 0.2988608181476593\n",
      "step : 100, loss : 0.24576713144779205, a : 0.7137530446052551, b : 0.20688804984092712\n",
      "step : 200, loss : 0.19611969590187073, a : 0.9224749207496643, b : 0.1361120343208313\n",
      "step : 300, loss : 0.17100512981414795, a : 1.067877173423767, b : 0.0751141905784607\n",
      "step : 400, loss : 0.15501287579536438, a : 1.1814547777175903, b : 0.020373474806547165\n",
      "step : 500, loss : 0.14357754588127136, a : 1.2756588459014893, b : -0.02976645901799202\n",
      "step : 600, loss : 0.1348145455121994, a : 1.3567391633987427, b : -0.07626605033874512\n",
      "step : 700, loss : 0.12778563797473907, a : 1.4282984733581543, b : -0.11975442618131638\n",
      "step : 800, loss : 0.12196299433708191, a : 1.4926137924194336, b : -0.1606777012348175\n",
      "step : 900, loss : 0.11702310293912888, a : 1.5512183904647827, b : -0.19937022030353546\n"
     ]
    },
    {
     "data": {
      "image/png": "[encoded data removed]",
      "text/plain": [
       "<Figure size 432x288 with 1 Axes>"
      ]
     },
     "metadata": {},
     "output_type": "display_data"
    }
   ],
   "source": [
    "with tf.Session() as sess:\n",
    "    sess.run(tf.global_variables_initializer())\n",
    "    plt.scatter(data, label, 2,'g')\n",
    "    for i in range(1000):\n",
    "        _train_op, _loss, _a, _b = sess.run([train_optimizer, loss, a, b], feed_dict={x : data, y_ : label})\n",
    "\n",
    "        if i % 100 == 0 :\n",
    "            #loss 함수 안에서는 자동으로 시그모이드를 씌워주지만, 여기서는 직접 넣어야 한다.        \n",
    "            _pred = sess.run(tf.nn.sigmoid(y) , {x: data})\n",
    "            \n",
    "            print('step : {}, loss : {}, a : {}, b : {}'.format( i, _loss, _a, _b))\n",
    "            \n",
    "    plt.scatter(data, _pred, 1, 'r')\n",
    "    plt.legend([\"real\", \"model\"])"
   ]
  },
  {
   "cell_type": "code",
   "execution_count": null,
   "metadata": {},
   "outputs": [],
   "source": []
  }
 ],
 "metadata": {
  "kernelspec": {
   "display_name": "Python 3",
   "language": "python",
   "name": "python3"
  },
  "language_info": {
   "codemirror_mode": {
    "name": "ipython",
    "version": 3
   },
   "file_extension": ".py",
   "mimetype": "text/x-python",
   "name": "python",
   "nbconvert_exporter": "python",
   "pygments_lexer": "ipython3",
   "version": "3.6.5"
  },
  "toc": {
   "base_numbering": 1,
   "nav_menu": {},
   "number_sections": true,
   "sideBar": true,
   "skip_h1_title": false,
   "title_cell": "Table of Contents",
   "title_sidebar": "Contents",
   "toc_cell": false,
   "toc_position": {},
   "toc_section_display": true,
   "toc_window_display": false
  }
 },
 "nbformat": 4,
 "nbformat_minor": 2
}
