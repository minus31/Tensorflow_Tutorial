{
 "cells": [
  {
   "cell_type": "markdown",
   "metadata": {},
   "source": [
    "# LSTM \n",
    "\n",
    "- To overcome RNN's problem, which is 'Long term Dependency\n",
    " > Long term dependency \n",
    "    - 현재 state와 과거 input과의 term이 길 때, input을 반영하지 못하는 현상 \n",
    "        (이전 state에서 현재로 오면서 곱하는게 큰 원인)\n",
    "        \n",
    "#### LSTM Cell's structure \n",
    "  - Cell state와 hidden layer가 별도로 존재 \n",
    "  - Cell state는 정보의 기억을 주로 담당\n",
    "  - Forget gate는 Cell 상에서 크게 중요하지 않은 정보를 삭제 \n",
    "  - Hidden layer(tanh) 는 input gate(sigmoid)를 통해 중요한 정보만을 Cell에 update\n",
    "  - Cell state는 forget gate, input gate를 거친 후 다음 State로 넘어간다. \n",
    "  - hidden layer는 다음 Cell에서 다음 step의 input 과 Concatnate(it makes memorize longer)하여 Cell에 입력 \n",
    "<img src=\"./static/LSTM.png\" > <img/>\n",
    "  \n",
    "#### GRU cell's structure\n",
    "  - input gate를 1-forget gate로 처리하면서 weight 개수를 줄여 연산량을 줄임\n",
    "  - 실제로 input gate와 forget gate는 반대로 가는 경향이 있음 \n",
    "  - LSTM과 비슷한 성능을 내며, 연산량은 감소 \n",
    "<img src=\"./static/GRU.png\" > <img/>\n",
    "  \n",
    "$*$ **Dynamic RNN** \n",
    " - static RNN보다 더 많이 사용한다. \n",
    " - Padding에 대하여 loss를 구하지 않게 하여, 가변 길이 데이터를 더 원할하게 학습 할 수있다. \n",
    " > loss를 구할 때, Gate 처럼 먼저 length를 같이 받아서 넣어주면, padding 부분의 loss는 구하지 않는다. \n",
    " \n",
    "###### Bidirectional RNN \n",
    "- RNN Cell을 두개씩 가지고 서로 반대 방향의 time step별 state를 가지는 RNN구조 \n",
    "- 양방향의 loss를 연결 시킨 것을 낮추려고 노력하면서 더 좋은 성능을 내는 경우가 많다. \n",
    "\n",
    "### Learning by implementation "
   ]
  },
  {
   "cell_type": "code",
   "execution_count": 2,
   "metadata": {},
   "outputs": [],
   "source": [
    "import tensorflow as tf\n",
    "import numpy as np \n",
    "import matplotlib.pyplot as plt \n",
    "%matplotlib inline"
   ]
  },
  {
   "cell_type": "code",
   "execution_count": 3,
   "metadata": {},
   "outputs": [],
   "source": [
    "tf.reset_default_graph()\n",
    "# preparing Data\n",
    "t = np.array([float(i)*0.01 for i in range(10000+1)])\n",
    "sin = np.sin(t[:-1])\n",
    "sin_next = np.sin(t[1:])\n",
    "\n",
    "time_step = 100 \n",
    "reshaped_sin"
   ]
  },
  {
   "cell_type": "code",
   "execution_count": null,
   "metadata": {},
   "outputs": [],
   "source": []
  },
  {
   "cell_type": "code",
   "execution_count": null,
   "metadata": {},
   "outputs": [],
   "source": []
  },
  {
   "cell_type": "code",
   "execution_count": null,
   "metadata": {},
   "outputs": [],
   "source": []
  }
 ],
 "metadata": {
  "kernelspec": {
   "display_name": "Python 3",
   "language": "python",
   "name": "python3"
  },
  "language_info": {
   "codemirror_mode": {
    "name": "ipython",
    "version": 3
   },
   "file_extension": ".py",
   "mimetype": "text/x-python",
   "name": "python",
   "nbconvert_exporter": "python",
   "pygments_lexer": "ipython3",
   "version": "3.6.4"
  },
  "latex_envs": {
   "LaTeX_envs_menu_present": true,
   "autoclose": false,
   "autocomplete": true,
   "bibliofile": "biblio.bib",
   "cite_by": "apalike",
   "current_citInitial": 1,
   "eqLabelWithNumbers": true,
   "eqNumInitial": 1,
   "hotkeys": {
    "equation": "Ctrl-E",
    "itemize": "Ctrl-I"
   },
   "labels_anchors": false,
   "latex_user_defs": false,
   "report_style_numbering": false,
   "user_envs_cfg": false
  },
  "toc": {
   "base_numbering": 1,
   "nav_menu": {},
   "number_sections": true,
   "sideBar": true,
   "skip_h1_title": false,
   "title_cell": "Table of Contents",
   "title_sidebar": "Contents",
   "toc_cell": false,
   "toc_position": {},
   "toc_section_display": true,
   "toc_window_display": false
  }
 },
 "nbformat": 4,
 "nbformat_minor": 2
}
